{
 "cells": [
  {
   "cell_type": "code",
   "execution_count": null,
   "metadata": {
    "scrolled": true
   },
   "outputs": [],
   "source": [
    "%matplotlib inline\n",
    "import matplotlib.pyplot as plt\n",
    "from plot_utils import plot_search, plot_search_error, plot_correlations, plot_correlations_legend\n",
    "import numpy as np\n",
    "from nn_quantum_states.rbm import RBM"
   ]
  },
  {
   "cell_type": "markdown",
   "metadata": {},
   "source": [
    "# Demonstration of Quantum State Representation with Neural Networks\n",
    "\n",
    "For reference please refer to the paper."
   ]
  },
  {
   "cell_type": "markdown",
   "metadata": {},
   "source": [
    "### 1-D ISING MODEL"
   ]
  },
  {
   "cell_type": "code",
   "execution_count": null,
   "metadata": {
    "scrolled": true
   },
   "outputs": [],
   "source": [
    "from nn_quantum_states.hamiltonians.ising1d import Ising1D\n",
    "\n",
    "# problem constraints\n",
    "num_spins = 8\n",
    "bc_periodic = True\n",
    "h_field_magnitude = 2\n",
    "\n",
    "# hyperparameters\n",
    "alpha = 4\n",
    "learning_rate = 0.8\n",
    "iterations = 1000\n",
    "epochs = 300\n",
    "therm_factor = 0.01\n",
    "sweep_factor = 1\n",
    "\n",
    "hamiltonian = Ising1D(num_spins, bc_periodic, h_field_magnitude)"
   ]
  },
  {
   "cell_type": "markdown",
   "metadata": {},
   "source": [
    "Finding the ground state energy:"
   ]
  },
  {
   "cell_type": "code",
   "execution_count": null,
   "metadata": {
    "scrolled": true
   },
   "outputs": [],
   "source": [
    "ground_energy = hamiltonian.get_exact_ground_energy()\n",
    "print('Ground energy for 1-D Ising Hamiltonian: %.20f' % ground_energy)"
   ]
  },
  {
   "cell_type": "markdown",
   "metadata": {},
   "source": [
    "Training the model:"
   ]
  },
  {
   "cell_type": "code",
   "execution_count": null,
   "metadata": {
    "scrolled": true
   },
   "outputs": [],
   "source": [
    "model = RBM(num_spins, alpha * num_spins, hamiltonian, learning_rate)\n",
    "energies = model.optimize(epochs, iterations, therm_factor, sweep_factor)\n",
    "plot_search(energies, ground_energy)\n",
    "plot_search_error(energies, ground_energy)"
   ]
  },
  {
   "cell_type": "markdown",
   "metadata": {},
   "source": [
    "Computing inter-spin correlations:"
   ]
  },
  {
   "cell_type": "code",
   "execution_count": null,
   "metadata": {},
   "outputs": [],
   "source": [
    "correlations = []\n",
    "\n",
    "for k in range(num_spins):\n",
    "    corr = model.sampler.compute_correlations(0, k)\n",
    "    correlations.append(corr)\n",
    "    \n",
    "plot_correlations(correlations)"
   ]
  },
  {
   "cell_type": "markdown",
   "metadata": {},
   "source": [
    "### 1-D HEISENBERG MODEL"
   ]
  },
  {
   "cell_type": "code",
   "execution_count": null,
   "metadata": {
    "scrolled": true
   },
   "outputs": [],
   "source": [
    "from nn_quantum_states.hamiltonians.heisen1d import Heisen1D\n",
    "\n",
    "# problem constraints\n",
    "num_spins = 8\n",
    "bc_periodic = True\n",
    "h_field_magnitude = 2\n",
    "\n",
    "# hyperparameters\n",
    "alpha = 4\n",
    "learning_rate = 0.3\n",
    "iterations = 1000\n",
    "epochs = 300\n",
    "therm_factor = 0.01\n",
    "sweep_factor = 1\n",
    "\n",
    "hamiltonian = Heisen1D(num_spins, bc_periodic, h_field_magnitude)"
   ]
  },
  {
   "cell_type": "markdown",
   "metadata": {},
   "source": [
    "Training the model:"
   ]
  },
  {
   "cell_type": "code",
   "execution_count": null,
   "metadata": {
    "scrolled": true
   },
   "outputs": [],
   "source": [
    "model = RBM(num_spins, alpha * num_spins, hamiltonian, learning_rate)\n",
    "energies = model.optimize(epochs, iterations, therm_factor, sweep_factor)\n",
    "plot_search(energies)\n"
   ]
  },
  {
   "cell_type": "markdown",
   "metadata": {},
   "source": [
    "Computing inter-spin correlations:"
   ]
  },
  {
   "cell_type": "code",
   "execution_count": null,
   "metadata": {
    "scrolled": true
   },
   "outputs": [],
   "source": [
    "correlations = []\n",
    "for k in range(num_spins):\n",
    "    corr = model.sampler.compute_correlations(0, k)\n",
    "    correlations.append(corr)\n",
    "        \n",
    "plot_correlations(correlations)"
   ]
  },
  {
   "cell_type": "code",
   "execution_count": null,
   "metadata": {},
   "outputs": [],
   "source": []
  }
 ],
 "metadata": {
  "kernelspec": {
   "display_name": "Python 3",
   "language": "python",
   "name": "python3"
  },
  "language_info": {
   "codemirror_mode": {
    "name": "ipython",
    "version": 3
   },
   "file_extension": ".py",
   "mimetype": "text/x-python",
   "name": "python",
   "nbconvert_exporter": "python",
   "pygments_lexer": "ipython3",
   "version": "3.6.4"
  }
 },
 "nbformat": 4,
 "nbformat_minor": 2
}
