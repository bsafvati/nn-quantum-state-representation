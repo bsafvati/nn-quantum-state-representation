{
 "cells": [
  {
   "cell_type": "code",
   "execution_count": 1,
   "metadata": {
    "scrolled": true
   },
   "outputs": [],
   "source": [
    "%matplotlib inline\n",
    "import matplotlib as plt\n",
    "from plot_utils import plot_search, plot_search_error, plot_alpha_error, plot_different_lrs, plot_correlations"
   ]
  },
  {
   "cell_type": "markdown",
   "metadata": {},
   "source": [
    "# Demonstration of Quantum State Representation with Neural Networks\n",
    "\n",
    "For reference, please refer to the full paper."
   ]
  },
  {
   "cell_type": "markdown",
   "metadata": {},
   "source": [
    "### 1-D ISING MODEL"
   ]
  },
  {
   "cell_type": "code",
   "execution_count": 2,
   "metadata": {
    "scrolled": true
   },
   "outputs": [],
   "source": [
    "from nn_quantum_states.hamiltonians.ising1d import Ising1D\n",
    "from nn_quantum_states.hamiltonians.heisen1d import Heisen1D\n",
    "\n",
    "from nn_quantum_states.rbm import RBM\n",
    "\n",
    "# problem constraints\n",
    "num_spins = 8\n",
    "bc_periodic = True\n",
    "h_field_magnitude = 2\n",
    "\n",
    "# hyperparameters\n",
    "alpha = 4\n",
    "learning_rate = 0.8\n",
    "iterations = 1000\n",
    "epochs = 300\n",
    "therm_factor = 0.01\n",
    "sweep_factor = 1\n",
    "\n",
    "hamiltonian = Ising1D(num_spins, bc_periodic, h_field_magnitude)\n",
    "model = RBM(num_spins, alpha * num_spins, hamiltonian, learning_rate)"
   ]
  },
  {
   "cell_type": "markdown",
   "metadata": {},
   "source": [
    "Finding the ground state energy:"
   ]
  },
  {
   "cell_type": "code",
   "execution_count": 3,
   "metadata": {
    "scrolled": true
   },
   "outputs": [
    {
     "name": "stdout",
     "output_type": "stream",
     "text": [
      "Ground energy for 1-D Ising Hamiltonian: -2.12727055878506465803\n"
     ]
    }
   ],
   "source": [
    "ground_energy = hamiltonian.get_exact_ground_energy()\n",
    "print('Ground energy for 1-D Ising Hamiltonian: %.20f' % ground_energy)"
   ]
  },
  {
   "cell_type": "markdown",
   "metadata": {},
   "source": [
    "Training the model:"
   ]
  },
  {
   "cell_type": "code",
   "execution_count": 4,
   "metadata": {
    "scrolled": true
   },
   "outputs": [],
   "source": [
    "# energies = model.optimize(epochs, iterations, therm_factor, sweep_factor)\n",
    "# plot_search(energies, ground_energy, 'img/search_lr_2.pdf')\n",
    "# plot_search_error(energies, ground_energy, 'img/err_lr_2.pdf')"
   ]
  },
  {
   "cell_type": "markdown",
   "metadata": {},
   "source": [
    "Varying $\\alpha$:"
   ]
  },
  {
   "cell_type": "code",
   "execution_count": 5,
   "metadata": {
    "scrolled": true
   },
   "outputs": [],
   "source": [
    "# alphas = [2, 4, 8]\n",
    "\n",
    "# energies = list()\n",
    "# for alpha in alphas:\n",
    "#     model = RBM(num_spins, alpha * num_spins, hamiltonian, learning_rate)\n",
    "#     energies.append(model.optimize(epochs, iterations, therm_factor, sweep_factor))\n",
    "# plot_alpha_error(alphas, energies, ground_energy, 'img/alphas.pdf')\n"
   ]
  },
  {
   "cell_type": "markdown",
   "metadata": {},
   "source": [
    "Varying learning rate"
   ]
  },
  {
   "cell_type": "code",
   "execution_count": 6,
   "metadata": {
    "scrolled": true
   },
   "outputs": [],
   "source": [
    "# lrs = [0.1, 0.8, 2]\n",
    "# energies = list()\n",
    "\n",
    "# for lr in lrs:\n",
    "#     model = RBM(num_spins, alpha * num_spins, hamiltonian, lr)\n",
    "#     energies.append(model.optimize(epochs, iterations, therm_factor, sweep_factor))\n",
    "# plot_different_lrs(lrs, energies, ground_energy, 'img/lr.pdf')\n"
   ]
  },
  {
   "cell_type": "markdown",
   "metadata": {},
   "source": [
    "Correlations:"
   ]
  },
  {
   "cell_type": "code",
   "execution_count": 7,
   "metadata": {
    "scrolled": true
   },
   "outputs": [],
   "source": [
    "# # started at 2:55 AM\n",
    "\n",
    "# num_spins = 20\n",
    "# epochs = 300\n",
    "# iterations = 1000\n",
    "\n",
    "# h_field_magnitude = 2\n",
    "\n",
    "# hamiltonian = Ising1D(num_spins, bc_periodic, h_field_magnitude)\n",
    "# model = RBM(num_spins, alpha * num_spins, hamiltonian, learning_rate)\n",
    "# energies = model.optimize(epochs, iterations, therm_factor, sweep_factor)\n",
    "\n",
    "# plot_search(energies)\n",
    "\n",
    "\n",
    "# correlations = []\n",
    "# for k in range(num_spins):\n",
    "#     corr = model.sampler.compute_correlations(0, k)\n",
    "#     correlations.append(corr)\n",
    "    \n",
    "# print(correlations)\n",
    "    \n",
    "# plot_correlations(correlations, 'img/ising_correlations_h_2.pdf')\n",
    "    \n"
   ]
  },
  {
   "cell_type": "code",
   "execution_count": null,
   "metadata": {
    "scrolled": false
   },
   "outputs": [
    {
     "name": "stdout",
     "output_type": "stream",
     "text": [
      "1: -9.797905\n",
      "2: -9.900114\n",
      "3: -9.842020\n",
      "4: -9.899404\n",
      "5: -9.914841\n",
      "6: -9.852910\n",
      "7: -9.844361\n",
      "8: -9.866264\n",
      "9: -9.802878\n",
      "10: -9.877692\n",
      "11: -9.881835\n",
      "12: -9.933409\n",
      "13: -9.939527\n",
      "14: -9.857756\n",
      "15: -9.908628\n",
      "16: -9.828293\n",
      "17: -9.905948\n",
      "18: -9.930353\n",
      "19: -9.819149\n",
      "20: -9.891889\n",
      "21: -9.876995\n",
      "22: -9.887104\n",
      "23: -9.905022\n",
      "24: -9.849911\n",
      "25: -9.865698\n",
      "26: -9.889396\n",
      "27: -9.916247\n",
      "28: -9.926744\n",
      "29: -9.921226\n",
      "30: -9.883850\n"
     ]
    }
   ],
   "source": [
    "num_spins = 20\n",
    "epochs = 300\n",
    "iterations = 1000\n",
    "learning_rate = 0.05\n",
    "\n",
    "h_field_magnitude = 10\n",
    "\n",
    "hamiltonian = Ising1D(num_spins, bc_periodic, h_field_magnitude)\n",
    "model = RBM(num_spins, alpha * num_spins, hamiltonian, learning_rate)\n",
    "energies = model.optimize(epochs, iterations, therm_factor, sweep_factor, verbose=True)\n",
    "\n",
    "plot_search(energies)\n",
    "\n",
    "correlations = []\n",
    "for k in range(num_spins):\n",
    "    corr = model.sampler.compute_correlations(0, k)\n",
    "    correlations.append(corr)\n",
    "    \n",
    "print(correlations)\n",
    "    \n",
    "plot_correlations(correlations, 'img/ising_correlations_h_10.pdf')"
   ]
  },
  {
   "cell_type": "code",
   "execution_count": null,
   "metadata": {
    "scrolled": true
   },
   "outputs": [],
   "source": [
    "num_spins = 20\n",
    "epochs = 300\n",
    "iterations = 1000\n",
    "\n",
    "j = 1\n",
    "\n",
    "hamiltonian = Heisen1D(num_spins, bc_periodic, j)\n",
    "model = RBM(num_spins, alpha * num_spins, hamiltonian, learning_rate)\n",
    "energies = model.optimize(epochs, iterations, therm_factor, sweep_factor, verbose=True)\n",
    "\n",
    "plot_search(energies)\n",
    "\n",
    "\n",
    "correlations = []\n",
    "for k in range(num_spins):\n",
    "    corr = model.sampler.compute_correlations(0, k)\n",
    "    correlations.append(corr)\n",
    "    \n",
    "print(correlations)\n",
    "    \n",
    "plot_correlations(correlations, 'img/heisen_correlations_j_pos.pdf')"
   ]
  },
  {
   "cell_type": "code",
   "execution_count": null,
   "metadata": {
    "scrolled": true
   },
   "outputs": [],
   "source": [
    "num_spins = 20\n",
    "epochs = 30\n",
    "iterations = 1000\n",
    "\n",
    "j = -1\n",
    "\n",
    "hamiltonian = Heisen1D(num_spins, bc_periodic, j)\n",
    "model = RBM(num_spins, alpha * num_spins, hamiltonian, learning_rate)\n",
    "energies = model.optimize(epochs, iterations, therm_factor, sweep_factor, verbose=True)\n",
    "\n",
    "plot_search(energies)\n",
    "\n",
    "correlations = []\n",
    "for k in range(num_spins):\n",
    "    corr = model.sampler.compute_correlations(0, k)\n",
    "    correlations.append(corr)\n",
    "    \n",
    "print(correlations)\n",
    "    \n",
    "plot_correlations(correlations, 'img/heisen_correlations_j_neg.pdf')"
   ]
  }
 ],
 "metadata": {
  "kernelspec": {
   "display_name": "Python 3",
   "language": "python",
   "name": "python3"
  },
  "language_info": {
   "codemirror_mode": {
    "name": "ipython",
    "version": 3
   },
   "file_extension": ".py",
   "mimetype": "text/x-python",
   "name": "python",
   "nbconvert_exporter": "python",
   "pygments_lexer": "ipython3",
   "version": "3.6.4"
  }
 },
 "nbformat": 4,
 "nbformat_minor": 2
}
